{
 "cells": [
  {
   "cell_type": "code",
   "execution_count": 2,
   "metadata": {},
   "outputs": [],
   "source": [
    "import numpy as np"
   ]
  },
  {
   "cell_type": "code",
   "execution_count": 3,
   "metadata": {},
   "outputs": [],
   "source": [
    "# Lista rappresentativa della configurazione dell'ufficio per la definizione di \"moe_current_office\"\n",
    "lst_current_office = [\n",
    "    [\"P\", \"P\", \"P\", \"P\", \"P\", \"P\", \"P\", \"P\"],\n",
    "    [\" \", \"M\", \" \", \" \", \"M\", \" \", \" \", \"M\"],\n",
    "    [\"A\", \"M\", \" \", \"A\", \"M\", \" \", \"A\", \"M\"],\n",
    "    [\" \", \"M\", \" \", \" \", \"M\", \" \", \" \", \"M\"],\n",
    "    [\" \", \" \", \" \", \" \", \" \", \" \", \" \", \" \"],\n",
    "    [\" \", \"M\", \" \", \" \", \"M\", \" \", \" \", \"M\"],\n",
    "    [\"A\", \"M\", \" \", \"A\", \"M\", \" \", \"A\", \"M\"],\n",
    "    [\" \", \"M\", \"C\", \" \", \"M\", \"C\", \" \", \"M\"]\n",
    "]\n"
   ]
  },
  {
   "cell_type": "code",
   "execution_count": 4,
   "metadata": {},
   "outputs": [],
   "source": [
    "# Lista rappresentativa degli indici che identificano le posizioni di Ordirale all'interno della mappa\n",
    "lst_index = [\n",
    "    [0, 1, 2, 3, 4, 5, 6, 7],\n",
    "    [8, 9, 10, 11, 12, 13, 14, 15],\n",
    "    [16, 17, 18, 19, 20, 21, 22, 23],\n",
    "    [24, 25, 26, 27, 28, 29, 30, 31],\n",
    "    [32, 33, 34, 35, 36, 37, 38, 39],\n",
    "    [40, 41, 42, 43, 44, 45, 46, 47],\n",
    "    [48, 49, 50, 51, 52, 53, 54, 55],\n",
    "    [56, 57, 58, 59, 60, 61, 62, 63]\n",
    "]"
   ]
  },
  {
   "cell_type": "code",
   "execution_count": 19,
   "metadata": {},
   "outputs": [],
   "source": [
    "array_index=np.array(lst_index)"
   ]
  },
  {
   "cell_type": "code",
   "execution_count": 20,
   "metadata": {},
   "outputs": [
    {
     "data": {
      "text/plain": [
       "array([[ 0,  1,  2,  3,  4,  5,  6,  7],\n",
       "       [ 8,  9, 10, 11, 12, 13, 14, 15],\n",
       "       [16, 17, 18, 19, 20, 21, 22, 23],\n",
       "       [24, 25, 26, 27, 28, 29, 30, 31],\n",
       "       [32, 33, 34, 35, 36, 37, 38, 39],\n",
       "       [40, 41, 42, 43, 44, 45, 46, 47],\n",
       "       [48, 49, 50, 51, 52, 53, 54, 55],\n",
       "       [56, 57, 58, 59, 60, 61, 62, 63]])"
      ]
     },
     "execution_count": 20,
     "metadata": {},
     "output_type": "execute_result"
    }
   ],
   "source": [
    "array_index"
   ]
  },
  {
   "cell_type": "code",
   "execution_count": 21,
   "metadata": {},
   "outputs": [
    {
     "data": {
      "text/plain": [
       "20"
      ]
     },
     "execution_count": 21,
     "metadata": {},
     "output_type": "execute_result"
    }
   ],
   "source": [
    "array_index[2][4] #[x][y]"
   ]
  },
  {
   "attachments": {},
   "cell_type": "markdown",
   "metadata": {},
   "source": [
    "# Trovare coordinate posizione #"
   ]
  },
  {
   "cell_type": "code",
   "execution_count": 8,
   "metadata": {},
   "outputs": [
    {
     "name": "stdout",
     "output_type": "stream",
     "text": [
      "7 7\n"
     ]
    }
   ],
   "source": [
    "for i in range(8):\n",
    "    for j in range(9):\n",
    "        if j <= 7:\n",
    "            position=array_index[i][j]\n",
    "            if position==63:\n",
    "                print(i,j) # i=asse x | j=asse y\n",
    "        else:\n",
    "            j=0\n",
    "            continue                   \n"
   ]
  },
  {
   "cell_type": "code",
   "execution_count": 15,
   "metadata": {},
   "outputs": [],
   "source": [
    "def get_coord(index,array):\n",
    "    for i in range(8):\n",
    "        for j in range(9):\n",
    "            if j <= 7:\n",
    "                position=array[i][j]\n",
    "                if position==index:\n",
    "                    return i,j # i=asse x | j=asse y\n",
    "            else:\n",
    "                j=0\n",
    "                continue  "
   ]
  },
  {
   "cell_type": "code",
   "execution_count": 18,
   "metadata": {},
   "outputs": [
    {
     "data": {
      "text/plain": [
       "7"
      ]
     },
     "execution_count": 18,
     "metadata": {},
     "output_type": "execute_result"
    }
   ],
   "source": [
    "starting_index = 63\n",
    "end_index = 0\n",
    "\n",
    "starting_axis_X = get_coord(starting_index,array_index)[0]\n",
    "starting_axis_y= get_coord(starting_index,array_index)[1]\n",
    "end_axis_X = get_coord(end_index,array_index)[0]\n",
    "end_axis_y= get_coord(end_index,array_index)[1]\n"
   ]
  },
  {
   "cell_type": "code",
   "execution_count": 22,
   "metadata": {},
   "outputs": [
    {
     "data": {
      "text/plain": [
       "array([['P', 'P', 'P', 'P', 'P', 'P', 'P', 'P'],\n",
       "       [' ', 'M', ' ', ' ', 'M', ' ', ' ', 'M'],\n",
       "       ['A', 'M', ' ', 'A', 'M', ' ', 'A', 'M'],\n",
       "       [' ', 'M', ' ', ' ', 'M', ' ', ' ', 'M'],\n",
       "       [' ', ' ', ' ', ' ', ' ', ' ', ' ', ' '],\n",
       "       [' ', 'M', ' ', ' ', 'M', ' ', ' ', 'M'],\n",
       "       ['A', 'M', ' ', 'A', 'M', ' ', 'A', 'M'],\n",
       "       [' ', 'M', 'C', ' ', 'M', 'C', ' ', 'M']], dtype='<U1')"
      ]
     },
     "execution_count": 22,
     "metadata": {},
     "output_type": "execute_result"
    }
   ],
   "source": [
    "array_current_office=np.array(lst_current_office)\n",
    "array_current_office"
   ]
  },
  {
   "cell_type": "code",
   "execution_count": 23,
   "metadata": {},
   "outputs": [
    {
     "data": {
      "text/plain": [
       "'M'"
      ]
     },
     "execution_count": 23,
     "metadata": {},
     "output_type": "execute_result"
    }
   ],
   "source": [
    "starting_position=array_current_office[starting_axis_X][starting_axis_y]\n",
    "end_position=array_current_office[end_axis_X][end_axis_y]"
   ]
  },
  {
   "cell_type": "code",
   "execution_count": 9,
   "metadata": {},
   "outputs": [],
   "source": [
    "int_starting_position=2"
   ]
  },
  {
   "cell_type": "code",
   "execution_count": 10,
   "metadata": {},
   "outputs": [],
   "source": [
    "# input per posizione iniziale (da 1 a 63) --> lst_current_office\n",
    "# input per posizione finale (da 1 a 63) --> lst_current_office\n",
    "## se input ne \" \" --> np.NaN\n",
    "## se tragitto impossibile --> np.Inf\n",
    "## se posizione iniziale=posizione finale --> 0"
   ]
  },
  {
   "cell_type": "code",
   "execution_count": 11,
   "metadata": {},
   "outputs": [],
   "source": [
    "# Definisco la cella\n",
    "\n",
    "class cell:\n",
    " \n",
    "    def __init__(self, x=0, y=0, dist=0):\n",
    "        self.x = x\n",
    "        self.y = y\n",
    "        self.dist = dist"
   ]
  },
  {
   "cell_type": "code",
   "execution_count": 12,
   "metadata": {},
   "outputs": [],
   "source": [
    "# Verifico che le posizioni date siano dentro la mappa\n",
    "\n",
    "def isInside(x, y):\n",
    "    if (x >= 1 and x <= 63 and\n",
    "            y >= 1 and y <= 63):\n",
    "        return True\n",
    "    return False"
   ]
  },
  {
   "cell_type": "code",
   "execution_count": 13,
   "metadata": {},
   "outputs": [
    {
     "name": "stdout",
     "output_type": "stream",
     "text": [
      "12\n"
     ]
    }
   ],
   "source": [
    "def move_current_office(int_starting_position, int_end_position):\n",
    " \n",
    "    # all possible movements for the knight\n",
    "    dx = [2, 2, -2, -2, 1, 1, -1, -1]\n",
    "    dy = [1, -1, 1, -1, 2, -2, 2, -2]\n",
    " \n",
    "    queue = []\n",
    " \n",
    "    # push starting position of knight\n",
    "    # with 0 distance\n",
    "    queue.append(cell(int_starting_position[0], int_starting_position[1], 0))\n",
    " \n",
    "    # make all cell unvisited\n",
    "    visited = [[False for i in range(64)]\n",
    "               for j in range(64)]\n",
    " \n",
    "    # visit starting state\n",
    "    visited[int_starting_position[0]][int_starting_position[1]] = True\n",
    " \n",
    "    # loop until we have one element in queue\n",
    "    while(len(queue) > 0):\n",
    " \n",
    "        t = queue[0]\n",
    "        queue.pop(0)\n",
    " \n",
    "        # if current cell is equal to target\n",
    "        # cell, return its distance\n",
    "        if(t.x == int_end_position[0] and\n",
    "           t.y == int_end_position[1]):\n",
    "            return t.dist\n",
    " \n",
    "        # iterate for all reachable states\n",
    "        for i in range(8):\n",
    " \n",
    "            x = t.x + dx[i]\n",
    "            y = t.y + dy[i]\n",
    " \n",
    "            if(isInside(x, y) and not visited[x][y]):\n",
    "                visited[x][y] = True\n",
    "                queue.append(cell(x, y, t.dist + 1))\n",
    " \n",
    " \n",
    "# Driver Code\n",
    "if __name__ == '__main__':\n",
    "    N = 8\n",
    "    int_starting_position = [1, 1]\n",
    "    int_end_position = [15, 23]\n",
    " \n",
    "    # Function call\n",
    "    print(move_current_office(int_starting_position,\n",
    "                               int_end_position, N))"
   ]
  },
  {
   "attachments": {},
   "cell_type": "markdown",
   "metadata": {},
   "source": [
    "# Codice 1 #"
   ]
  },
  {
   "cell_type": "code",
   "execution_count": 14,
   "metadata": {},
   "outputs": [
    {
     "ename": "SyntaxError",
     "evalue": "expected ':' (2561575074.py, line 73)",
     "output_type": "error",
     "traceback": [
      "\u001b[1;36m  Cell \u001b[1;32mIn[14], line 73\u001b[1;36m\u001b[0m\n\u001b[1;33m    if knightpos\u001b[0m\n\u001b[1;37m                ^\u001b[0m\n\u001b[1;31mSyntaxError\u001b[0m\u001b[1;31m:\u001b[0m expected ':'\n"
     ]
    }
   ],
   "source": [
    "# Python3 code to find minimum steps to reach\n",
    "# to specific cell in minimum moves by Knight\n",
    "\n",
    "\n",
    "class cell:\n",
    "\n",
    "\tdef __init__(self, x=0, y=0, dist=0):\n",
    "\t\tself.x = x\n",
    "\t\tself.y = y\n",
    "\t\tself.dist = dist\n",
    "\n",
    "# checks whether given position is\n",
    "# inside the board\n",
    "\n",
    "\n",
    "def isInside(x, y, N):\n",
    "\tif (x >= 1 and x <= N and\n",
    "\t\t\ty >= 1 and y <= N):\n",
    "\t\treturn True\n",
    "\treturn False\n",
    "\n",
    "# Method returns minimum step to reach\n",
    "# target position\n",
    "\n",
    "\n",
    "def minStepToReachTarget(knightpos,\n",
    "\t\t\t\t\t\ttargetpos, N):\n",
    "\n",
    "\t# all possible movements for the knight\n",
    "\tdx = [2, 2, -2, -2, 1, 1, -1, -1]\n",
    "\tdy = [1, -1, 1, -1, 2, -2, 2, -2]\n",
    "\n",
    "\tqueue = []\n",
    "\n",
    "\t# push starting position of knight\n",
    "\t# with 0 distance\n",
    "\tqueue.append(cell(knightpos[0], knightpos[1], 0))\n",
    "\n",
    "\t# make all cell unvisited\n",
    "\tvisited = [[False for i in range(N + 1)] for j in range(N + 1)]\n",
    "\n",
    "\t# visit starting state\n",
    "\tvisited[knightpos[0]][knightpos[1]] = True\n",
    "\n",
    "\t# loop until we have one element in queue\n",
    "\twhile(len(queue) > 0):\n",
    "\n",
    "\t\tt = queue[0]\n",
    "\t\tqueue.pop(0)\n",
    "\n",
    "\t\t# if current cell is equal to target\n",
    "\t\t# cell, return its distance\n",
    "\t\tif(t.x == targetpos[0] and\n",
    "\t\tt.y == targetpos[1]):\n",
    "\t\t\treturn t.dist\n",
    "\n",
    "\t\t# iterate for all reachable states\n",
    "\t\tfor i in range(8):\n",
    "\n",
    "\t\t\tx = t.x + dx[i]\n",
    "\t\t\ty = t.y + dy[i]\n",
    "\n",
    "\t\t\tif(isInside(x, y, N) and not visited[x][y]):\n",
    "\t\t\t\tvisited[x][y] = True\n",
    "\t\t\t\tqueue.append(cell(x, y, t.dist + 1))\n",
    "\n",
    "\n",
    "# Driver Code\n",
    "if __name__ == '__main__':\n",
    "\tN = 8\n",
    "\tknightpos = [0, -1]\n",
    "\ttargetpos = [8, 8]\n",
    "\tif knightpos\n",
    "\t\t# Function call\n",
    "\t\tprint(minStepToReachTarget(knightpos,\n",
    "\t\t\t\t\t\t\t\ttargetpos, N))\n",
    "\n",
    "# This code is contributed by\n",
    "# Kaustav kumar Chanda\n"
   ]
  },
  {
   "attachments": {},
   "cell_type": "markdown",
   "metadata": {},
   "source": [
    "# Codice 2 #"
   ]
  },
  {
   "cell_type": "code",
   "execution_count": null,
   "metadata": {},
   "outputs": [],
   "source": [
    "# Python3 program to find number\n",
    "# of possible moves of knight\n",
    "n = 4;\n",
    "m = 4;\n",
    " \n",
    "# To calculate possible moves\n",
    "def findPossibleMoves(mat, p, q):\n",
    "    global n, m;\n",
    "     \n",
    "    # All possible moves of a knight\n",
    "    X = [2, 1, -1, -2, -2, -1, 1, 2];\n",
    "    Y = [1, 2, 2, 1, -1, -2, -2, -1];\n",
    " \n",
    "    count = 0;\n",
    " \n",
    "    # Check if each possible move\n",
    "    # is valid or not\n",
    "    for i in range(8):\n",
    "         \n",
    "        # Position of knight after move\n",
    "        x = p + X[i];\n",
    "        y = q + Y[i];\n",
    " \n",
    "        # count valid moves\n",
    "        if(x >= 0 and y >= 0 and x < n and\n",
    "           y < m and mat[x][y] == 0):\n",
    "            count += 1;\n",
    " \n",
    "    # Return number of possible moves\n",
    "    return count;\n",
    " \n",
    "# Driver code\n",
    "if __name__ == '__main__':\n",
    "    mat = [[1, 0, 1, 0], [0, 1, 1, 1],\n",
    "           [1, 1, 0, 1], [0, 1, 1, 1]];\n",
    " \n",
    "    p, q = 2, 2;\n",
    " \n",
    "    print(findPossibleMoves(mat, p, q));"
   ]
  },
  {
   "attachments": {},
   "cell_type": "markdown",
   "metadata": {},
   "source": [
    "# Codice 3 #"
   ]
  },
  {
   "cell_type": "code",
   "execution_count": null,
   "metadata": {},
   "outputs": [],
   "source": [
    "import sys\n",
    "from collections import deque\n",
    " \n",
    " \n",
    "# A queue node used in BFS\n",
    "class Node:\n",
    "    # (x, y) represents chessboard coordinates\n",
    "    # `dist` represents its minimum distance from the source\n",
    "    def __init__(self, x, y, dist=0):\n",
    "        self.x = x\n",
    "        self.y = y\n",
    "        self.dist = dist\n",
    " \n",
    "    # As we are using `Node` as a key in a dictionary,\n",
    "    # we need to override the `__hash__()` and `__eq__()` function\n",
    "    def __hash__(self):\n",
    "        return hash((self.x, self.y, self.dist))\n",
    " \n",
    "    def __eq__(self, other):\n",
    "        return (self.x, self.y, self.dist) == (other.x, other.y, other.dist)\n",
    " \n",
    " \n",
    "# Below lists detail all eight possible movements for a knight\n",
    "row = [2, 2, -2, -2, 1, 1, -1, -1]\n",
    "col = [-1, 1, 1, -1, 2, -2, 2, -2]\n",
    " \n",
    " \n",
    "# Check if (x, y) is valid chessboard coordinates.\n",
    "# Note that a knight cannot go out of the chessboard\n",
    "def isValid(x, y, N):\n",
    "    return not (x < 0 or y < 0 or x >= N or y >= N)\n",
    " \n",
    " \n",
    "# Find the minimum number of steps taken by the knight\n",
    "# from the source to reach the destination using BFS\n",
    "def findShortestDistance(src, dest, N):\n",
    " \n",
    "    # set to check if the matrix cell is visited before or not\n",
    "    visited = set()\n",
    " \n",
    "    # create a queue and enqueue the first node\n",
    "    q = deque()\n",
    "    q.append(src)\n",
    " \n",
    "    # loop till queue is empty\n",
    "    while q:\n",
    " \n",
    "        # dequeue front node and process it\n",
    "        node = q.popleft()\n",
    " \n",
    "        x = node.x\n",
    "        y = node.y\n",
    "        dist = node.dist\n",
    " \n",
    "        # if the destination is reached, return distance\n",
    "        if x == dest.x and y == dest.y:\n",
    "            return dist\n",
    " \n",
    "        # skip if the location is visited before\n",
    "        if node not in visited:\n",
    "            # mark the current node as visited\n",
    "            visited.add(node)\n",
    " \n",
    "            # check for all eight possible movements for a knight\n",
    "            # and enqueue each valid movement\n",
    "            for i in range(len(row)):\n",
    "                # get the knight's valid position from the current position on\n",
    "                # the chessboard and enqueue it with +1 distance\n",
    "                x1 = x + row[i]\n",
    "                y1 = y + col[i]\n",
    " \n",
    "                if isValid(x1, y1, N):\n",
    "                    q.append(Node(x1, y1, dist + 1))\n",
    " \n",
    "    # return infinity if the path is not possible\n",
    "    return sys.maxsize\n",
    " \n",
    " \n",
    "if __name__ == '__main__':\n",
    " \n",
    "    N = 8                # N x N matrix\n",
    "    src = Node(0, 7)    # source coordinates\n",
    "    dest = Node(7, 0)   # destination coordinates\n",
    " \n",
    "    print(\"The minimum number of steps required is\",\n",
    "          findShortestDistance(src, dest, N))"
   ]
  },
  {
   "cell_type": "code",
   "execution_count": null,
   "metadata": {},
   "outputs": [],
   "source": []
  }
 ],
 "metadata": {
  "kernelspec": {
   "display_name": "Python 3",
   "language": "python",
   "name": "python3"
  },
  "language_info": {
   "codemirror_mode": {
    "name": "ipython",
    "version": 3
   },
   "file_extension": ".py",
   "mimetype": "text/x-python",
   "name": "python",
   "nbconvert_exporter": "python",
   "pygments_lexer": "ipython3",
   "version": "3.10.10"
  },
  "orig_nbformat": 4
 },
 "nbformat": 4,
 "nbformat_minor": 2
}
